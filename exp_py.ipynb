{
 "cells": [
  {
   "cell_type": "markdown",
   "metadata": {},
   "source": [
    "# Типы данных\n",
    "Делятся на:\n",
    "- mutable: list, set, dict\n",
    "- immutable: bool, int, float, tuples, frozenset \n"
   ]
  },
  {
   "cell_type": "markdown",
   "metadata": {},
   "source": [
    "# Передача аргументов в функции\n",
    "- изменяемые передаются по ссылке\n",
    "- неизменяемые по значению"
   ]
  },
  {
   "cell_type": "code",
   "execution_count": 2,
   "metadata": {},
   "outputs": [
    {
     "name": "stdout",
     "output_type": "stream",
     "text": [
      "[1]\n",
      "[1, 1]\n",
      "[1, 1, 1]\n"
     ]
    }
   ],
   "source": [
    "# IMPORTANT!!!\n",
    "# Python’s default arguments are evaluated once when the function is defined, \n",
    "# not each time the function is called (like it is in say, Ruby). \n",
    "# This means that if you use a mutable default argument and mutate it, \n",
    "# you will and have mutated that object for all future calls to the function as well.\n",
    "\n",
    "def make_smth(l: list = []):\n",
    "    l.append(1)\n",
    "    print(l)\n",
    "\n",
    "make_smth()\n",
    "make_smth()\n",
    "make_smth()"
   ]
  },
  {
   "cell_type": "markdown",
   "metadata": {},
   "source": [
    "# Анотации типов\n",
    "\n",
    "1. Игнорятся интерпритатором и не выполняются в runtime. Нужны только линтерам и IDE\n",
    "1. Pydantic все-таки кое-где проверяет типы."
   ]
  },
  {
   "cell_type": "markdown",
   "metadata": {},
   "source": [
    "# Тернарный оператор\n",
    "Синтаксический сахар для ускорения записи условных конструкции"
   ]
  },
  {
   "cell_type": "code",
   "execution_count": 8,
   "metadata": {},
   "outputs": [
    {
     "data": {
      "text/plain": [
       "22"
      ]
     },
     "execution_count": 8,
     "metadata": {},
     "output_type": "execute_result"
    }
   ],
   "source": [
    "x = 1 if 2 == 1 else 22\n",
    "x"
   ]
  },
  {
   "cell_type": "markdown",
   "metadata": {},
   "source": [
    "# Глубокое и поверностное копирование\n",
    "В модуле `copy` две функции:\n",
    "- `copy.copy()` - для всех вложенных объектов в новый объект просто копируется ссылка каждого из них\n",
    "- `copy.deepcopy()` - для всех вложенных объектов в новом объекте создается ссылка новую копию каждого из них"
   ]
  },
  {
   "cell_type": "code",
   "execution_count": 15,
   "metadata": {},
   "outputs": [
    {
     "name": "stdout",
     "output_type": "stream",
     "text": [
      "Shallow: (id(l_src[1])=140563142109376, id(l_shallow[1])=140563142109376). Поэтому l_src[1] is l_shallow[1]=True, т.к. для вложенных объектов поверхностная копия просто переносит ссылки\n",
      "Deep: (id(l_src[1])=140563142109376, id(l_deep[1])=140563142141632). Поэтому l_src[1] is l_deep[1]=False, т.к. для вложенных объектов глубокая копия создает копии объектов в памяти\n"
     ]
    }
   ],
   "source": [
    "import copy\n",
    "\n",
    "l_src = [1, [2], 3]\n",
    "l_shallow = copy.copy(l_src)\n",
    "l_deep = copy.deepcopy(l_src)\n",
    "\n",
    "print(f'Shallow: ({id(l_src[1])=}, {id(l_shallow[1])=}). Поэтому {l_src[1] is l_shallow[1]=}, т.к. для вложенных объектов поверхностная копия просто переносит ссылки')\n",
    "print(f'Deep: ({id(l_src[1])=}, {id(l_deep[1])=}). Поэтому {l_src[1] is l_deep[1]=}, т.к. для вложенных объектов глубокая копия создает копии объектов в памяти')\n"
   ]
  },
  {
   "cell_type": "markdown",
   "metadata": {},
   "source": [
    "# Виртуальное окружение и пакетные менеджеры\n",
    "\n",
    "Для изоляции в проекте версий внешних пакетов используется вирт. окружение.\n",
    "\n",
    "1. В python3 можно пользовать venv.\n",
    "1. Есть pipenv, который он умеет воздавать виртуальное окружение с разными версиями интепертаторов.\n",
    "\n",
    "Стадартный пакетный менеджер python - этот pip. Есть от сторонних производителей есть poetry, более удобный и расширенный функционал работы с деревом зависимостей и расрешения конфликтов зависимостей."
   ]
  },
  {
   "cell_type": "markdown",
   "metadata": {},
   "source": [
    "# Сложность O(n) основных операций для стандарных коллекций python\n",
    "\n",
    "- insert в голову или хвост - O(1)\n",
    "- insert в середину - O(n)\n",
    "- find O(n)\n",
    "- pop O(1)"
   ]
  },
  {
   "cell_type": "markdown",
   "metadata": {},
   "source": [
    "# Хеш-таблицы\n",
    "Методы разрешения коллизий в хешах:\n",
    "1. Хвост в список\n",
    "1. Линейного пробоя\n",
    "1. Квадратичнрго пробоя"
   ]
  },
  {
   "cell_type": "markdown",
   "metadata": {},
   "source": [
    "#  ООП в python\n",
    "\n",
    "1. self - методы экземпляров принимают явно 1-ый атрибут для ссылки на сам экземпляр класса. За `self` часто критикуют python. Нужен он для того, чтобы найти атрибуты и методы \"правильного\" объекта. У меня почему-то не удается на 3.9.12 явно передать вместо `self` экземпляр объекта.\n",
    "1. super() - метод возвращает экземпляр родительского класса.\n",
    "1. методы:\n",
    "    1. объекта\n",
    "    1. класса\n",
    "    1. статический метод\n"
   ]
  },
  {
   "cell_type": "code",
   "execution_count": 38,
   "metadata": {},
   "outputs": [
    {
     "name": "stdout",
     "output_type": "stream",
     "text": [
      "Метод класса\n",
      "Статический метод\n",
      "Метод объекта\n",
      "Метод объекта\n"
     ]
    },
    {
     "ename": "TypeError",
     "evalue": "method1() missing 1 required positional argument: 'self'",
     "output_type": "error",
     "traceback": [
      "\u001b[0;31m---------------------------------------------------------------------------\u001b[0m",
      "\u001b[0;31mTypeError\u001b[0m                                 Traceback (most recent call last)",
      "\u001b[1;32m/Users/sournk/dev/exp_py/exp_py.ipynb Cell 13\u001b[0m in \u001b[0;36m<cell line: 17>\u001b[0;34m()\u001b[0m\n\u001b[1;32m     <a href='vscode-notebook-cell:/Users/sournk/dev/exp_py/exp_py.ipynb#ch0000020?line=14'>15</a>\u001b[0m A()\u001b[39m.\u001b[39mmethod1() \u001b[39m# только у экземпляоров классов\u001b[39;00m\n\u001b[1;32m     <a href='vscode-notebook-cell:/Users/sournk/dev/exp_py/exp_py.ipynb#ch0000020?line=15'>16</a>\u001b[0m A\u001b[39m.\u001b[39mmethod1(A()) \u001b[39m# <-- Кошмар python\u001b[39;00m\n\u001b[0;32m---> <a href='vscode-notebook-cell:/Users/sournk/dev/exp_py/exp_py.ipynb#ch0000020?line=16'>17</a>\u001b[0m A\u001b[39m.\u001b[39;49mmethod1()\n",
      "\u001b[0;31mTypeError\u001b[0m: method1() missing 1 required positional argument: 'self'"
     ]
    }
   ],
   "source": [
    "class A():\n",
    "    def method1(self): # метод объекта\n",
    "        print('Метод объекта')\n",
    "\n",
    "    @classmethod\n",
    "    def method2(cls): # метод класса\n",
    "        print('Метод класса')\n",
    "\n",
    "    @staticmethod\n",
    "    def method3(): # статический метод\n",
    "        print('Статический метод')\n",
    "\n",
    "A.method2() # без создания класса\n",
    "A.method3() # без создания класса\n",
    "A().method1() # только у экземпляоров классов\n",
    "A.method1(A()) # <-- Кошмар python\n",
    "A.method1() # <-- Exception: можно вызвать только у экземпляоров классов "
   ]
  },
  {
   "cell_type": "markdown",
   "metadata": {},
   "source": [
    "## Properties, setters"
   ]
  },
  {
   "cell_type": "code",
   "execution_count": 59,
   "metadata": {},
   "outputs": [
    {
     "name": "stdout",
     "output_type": "stream",
     "text": [
      "set_color()\n",
      "get_color()\n",
      "blue\n",
      "34\n",
      "12\n",
      "None\n",
      "0\n"
     ]
    }
   ],
   "source": [
    "class Pen():\n",
    "    def __init__(self, color):\n",
    "        self._protected_field = 100\n",
    "        self.__private_field = 1000\n",
    "        self.__color = color\n",
    "\n",
    "    def set_color(self, color: str):\n",
    "        print('set_color()')\n",
    "        self.__color = color\n",
    "\n",
    "    def get_color(self):\n",
    "        print('get_color()')\n",
    "        return self.__color\n",
    "\n",
    "    color = property(get_color, set_color) # Магия создания свойства класса\n",
    "\n",
    "    # Ниже второй вариант реализации свойств класса\n",
    "    @property\n",
    "    def width(self):\n",
    "        print('12')\n",
    "\n",
    "    @width.setter # Кстати, еще есть декоратор @name.deleter, который заставит вызваться декорированный метод при вызове такой конструкции del pen.name АД!!\n",
    "    def width(self, width):\n",
    "        print('34')\n",
    "\n",
    "pen = Pen('red')\n",
    "pen.color = 'blue'\n",
    "print(pen.color)\n",
    "pen.width = 100\n",
    "print(pen.width)\n",
    "\n",
    "        "
   ]
  },
  {
   "cell_type": "markdown",
   "metadata": {},
   "source": [
    "## Модификаторы доступа к полям\n",
    "Python does not support access private or protection as C++/Java/C# does. Everything is public. **The motto is, \"We're all adults here.\"**\n",
    "\n",
    "Зато есть соглашения:\n",
    "- protected: _protected_method(). \n",
    "- private: __private_method(), который все равно публично доступен из вне по измененному имени `_{class_name}__private_method()`.\n",
    "        "
   ]
  },
  {
   "cell_type": "code",
   "execution_count": 37,
   "metadata": {},
   "outputs": [
    {
     "name": "stdout",
     "output_type": "stream",
     "text": [
      "Drive\n",
      "Vzuhhhh...car2\n"
     ]
    },
    {
     "ename": "TypeError",
     "evalue": "drive() takes 1 positional argument but 2 were given",
     "output_type": "error",
     "traceback": [
      "\u001b[0;31m---------------------------------------------------------------------------\u001b[0m",
      "\u001b[0;31mTypeError\u001b[0m                                 Traceback (most recent call last)",
      "\u001b[1;32m/Users/sournk/dev/exp_py/exp_py.ipynb Cell 15\u001b[0m in \u001b[0;36m<cell line: 19>\u001b[0;34m()\u001b[0m\n\u001b[1;32m     <a href='vscode-notebook-cell:/Users/sournk/dev/exp_py/exp_py.ipynb#ch0000022?line=16'>17</a>\u001b[0m car1\u001b[39m.\u001b[39mdrive()\n\u001b[1;32m     <a href='vscode-notebook-cell:/Users/sournk/dev/exp_py/exp_py.ipynb#ch0000022?line=17'>18</a>\u001b[0m car2\u001b[39m.\u001b[39mdrive()\n\u001b[0;32m---> <a href='vscode-notebook-cell:/Users/sournk/dev/exp_py/exp_py.ipynb#ch0000022?line=18'>19</a>\u001b[0m car3\u001b[39m.\u001b[39;49mdrive(car3)\n",
      "\u001b[0;31mTypeError\u001b[0m: drive() takes 1 positional argument but 2 were given"
     ]
    }
   ],
   "source": [
    "class Car():\n",
    "    def drive(self):\n",
    "        print('Drive')\n",
    "\n",
    "class Ferarri(Car):\n",
    "    def __init__(self, name):\n",
    "        self.__name = name\n",
    "\n",
    "    def drive(self):\n",
    "        print(f'Vzuhhhh...{self.__name}')\n",
    "\n",
    "\n",
    "car1 = Car()\n",
    "car2 = Ferarri('car2')\n",
    "car3 = Ferarri('car3')\n",
    "\n",
    "car1.drive()\n",
    "car2.drive()\n",
    "car3.drive(car3)"
   ]
  },
  {
   "cell_type": "markdown",
   "metadata": {},
   "source": [
    "## Полиморфизм и утиная типизация\n",
    "\n",
    "Полиморфизм имеет 2 принципиальных реализации:\n",
    "1. Параметрический - реализован в python. Предполгает возможность вызова метода у любого объета, лишь бы он был (см. ниже пример).\n",
    "2. Ad-hoc (мнимый полиморфизм) - классичекский по Страуструпу - один интерфейс, но много релизации. Изменения возможны только в наследниках. \n",
    "\n",
    "Параметрический = Если нечто выглядит как утка, плавает как утка и крякает как утка, то это, вероятно, утка и есть."
   ]
  },
  {
   "cell_type": "code",
   "execution_count": 60,
   "metadata": {},
   "outputs": [
    {
     "name": "stdout",
     "output_type": "stream",
     "text": [
      "A.do()\n",
      "B.do()\n"
     ]
    }
   ],
   "source": [
    "class A():\n",
    "    def do(self):\n",
    "        print('A.do()')\n",
    "\n",
    "class B():\n",
    "    def do(self):\n",
    "        print('B.do()')\n",
    "\n",
    "def do(obj):\n",
    "    obj.do()\n",
    "\n",
    "\n",
    "\n",
    "a, b = A(), B()\n",
    "do(a)\n",
    "do(b)"
   ]
  },
  {
   "cell_type": "markdown",
   "metadata": {},
   "source": [
    "## Наследование\n",
    "\n",
    "Чтобы определить порядок вызовов методов и поска атрибутов классов в большом графе множественного наследования используется __Method Resolution Order (MRO)__ алгоритм.\n",
    "\n",
    "Порядок классов для поиска методов можно узнать `type.__mro__`\n",
    "\n",
    "Алгоритмы линеризации довольно сложные и py2 используется устраевший алгоритм, а в py3 новый MRO C3. Не точно, но ранее линирезация шла в ширину, теперь в высоту.\n",
    "\n",
    "## Mixins\n",
    "\n",
    "Концепция, которая позволяет \"подмешивать\" небольшую функциональность обекту. Обычно миксины реализуют малую функциональность, которая сама по себе не реализуется, а подмешивается объетам.\n",
    "Отдельного синтаксиса в python для этого нет. Используют соглашение об именовании классов, добавляя суфикс Mixin.\n",
    "\n",
    "Важно понимать порядок перекытия методов при множественном наследованиие. Приоритетнее методы классов, которые отнаследованы первыми. См. ниже.\n",
    "Поэтому обычно миксины, полиморфирующие классы, добавляют к наследованию первыми!"
   ]
  },
  {
   "cell_type": "code",
   "execution_count": 37,
   "metadata": {},
   "outputs": [
    {
     "name": "stdout",
     "output_type": "stream",
     "text": [
      "B print\n"
     ]
    }
   ],
   "source": [
    "class Mixin():\n",
    "    def test(self):\n",
    "        print('Mixin print')\n",
    "\n",
    "class A():\n",
    "    def test(self):\n",
    "        print('B print')\n",
    "\n",
    "class B(A, Mixin):\n",
    "    pass\n",
    "\n",
    "B().test() # будет вызван метол класса B, т.к. он наследуется первым"
   ]
  },
  {
   "cell_type": "markdown",
   "metadata": {},
   "source": [
    "## Особые методы\n",
    "```\n",
    "__eq__(self, other) ==\n",
    "__ne__(self, other) !=\n",
    "__lt__(self, other) >\n",
    "__gt__(self, other) <\n",
    "__le__(self, other) >=\n",
    "__ge__(self, other) <=\n",
    "__add__(self, other) +\n",
    "__sub__(self, other) -\n",
    "__mul__(self, other) *\n",
    "__floordiv__(self, other) //\n",
    "__truediv__(self, other) /\n",
    "__mod__(self, other) %\n",
    "__pow__(self, other) **\n",
    "__str__(self) \n",
    "__repr__(self) \n",
    "__len__(self) \n",
    "```"
   ]
  },
  {
   "cell_type": "markdown",
   "metadata": {},
   "source": [
    "## Абстратные классы\n",
    "В Python нет интерфейсов для задания нужны контрактов по реализации методов классов.\n",
    "Для этого применяется `from abc import ABC, abstractclass`.\n",
    "\n",
    "Причем просто наследование класса от ABC не делает его абстрактным. И экземпляр такого класса можно созадать. Но если в классе реализован хотя бы один абстрактный метод, то класс становится абстрактным и его экземпляры уже нельзя создать."
   ]
  },
  {
   "cell_type": "code",
   "execution_count": 26,
   "metadata": {},
   "outputs": [
    {
     "ename": "TypeError",
     "evalue": "Can't instantiate abstract class AIsAbstractAlready with abstract methods method1, method2",
     "output_type": "error",
     "traceback": [
      "\u001b[0;31m---------------------------------------------------------------------------\u001b[0m",
      "\u001b[0;31mTypeError\u001b[0m                                 Traceback (most recent call last)",
      "\u001b[1;32m/Users/sournk/dev/exp_py/exp_py.ipynb Cell 22\u001b[0m in \u001b[0;36m<cell line: 21>\u001b[0;34m()\u001b[0m\n\u001b[1;32m     <a href='vscode-notebook-cell:/Users/sournk/dev/exp_py/exp_py.ipynb#ch0000034?line=17'>18</a>\u001b[0m         \u001b[39mpass\u001b[39;00m\n\u001b[1;32m     <a href='vscode-notebook-cell:/Users/sournk/dev/exp_py/exp_py.ipynb#ch0000034?line=19'>20</a>\u001b[0m ANotAbstractYet() \u001b[39m# Работает\u001b[39;00m\n\u001b[0;32m---> <a href='vscode-notebook-cell:/Users/sournk/dev/exp_py/exp_py.ipynb#ch0000034?line=20'>21</a>\u001b[0m AIsAbstractAlready()\n",
      "\u001b[0;31mTypeError\u001b[0m: Can't instantiate abstract class AIsAbstractAlready with abstract methods method1, method2"
     ]
    }
   ],
   "source": [
    "from abc import ABC, abstractmethod\n",
    "\n",
    "class ANotAbstractYet(ABC):\n",
    "    def method():\n",
    "        pass\n",
    "    pass\n",
    "\n",
    "class AIsAbstractAlready(ABC):\n",
    "    @abstractmethod\n",
    "    def method1():\n",
    "        pass\n",
    "\n",
    "    @abstractmethod\n",
    "    def method2():\n",
    "        pass\n",
    "\n",
    "    def method3():\n",
    "        pass\n",
    "\n",
    "ANotAbstractYet() # Работает\n",
    "AIsAbstractAlready() # Падает TypeError из метода с декоратором"
   ]
  },
  {
   "cell_type": "markdown",
   "metadata": {},
   "source": [
    "Наследники должны реализовать **все** абстрактные методы родителя, иначе создание объекта упадет на TypeError. "
   ]
  },
  {
   "cell_type": "code",
   "execution_count": 31,
   "metadata": {},
   "outputs": [
    {
     "ename": "TypeError",
     "evalue": "Can't instantiate abstract class MyClass with abstract method method2",
     "output_type": "error",
     "traceback": [
      "\u001b[0;31m---------------------------------------------------------------------------\u001b[0m",
      "\u001b[0;31mTypeError\u001b[0m                                 Traceback (most recent call last)",
      "\u001b[1;32m/Users/sournk/dev/exp_py/exp_py.ipynb Cell 24\u001b[0m in \u001b[0;36m<cell line: 9>\u001b[0;34m()\u001b[0m\n\u001b[1;32m      <a href='vscode-notebook-cell:/Users/sournk/dev/exp_py/exp_py.ipynb#ch0000035?line=2'>3</a>\u001b[0m         \u001b[39mpass\u001b[39;00m\n\u001b[1;32m      <a href='vscode-notebook-cell:/Users/sournk/dev/exp_py/exp_py.ipynb#ch0000035?line=4'>5</a>\u001b[0m     \u001b[39m# def method2():\u001b[39;00m\n\u001b[1;32m      <a href='vscode-notebook-cell:/Users/sournk/dev/exp_py/exp_py.ipynb#ch0000035?line=5'>6</a>\u001b[0m     \u001b[39m#     pass\u001b[39;00m\n\u001b[0;32m----> <a href='vscode-notebook-cell:/Users/sournk/dev/exp_py/exp_py.ipynb#ch0000035?line=8'>9</a>\u001b[0m MyClass()\n",
      "\u001b[0;31mTypeError\u001b[0m: Can't instantiate abstract class MyClass with abstract method method2"
     ]
    }
   ],
   "source": [
    "class MyClass(AIsAbstractAlready):\n",
    "    def method1():\n",
    "        pass\n",
    "\n",
    "    # def method2():\n",
    "    #     pass\n",
    "\n",
    "\n",
    "MyClass()"
   ]
  },
  {
   "cell_type": "markdown",
   "metadata": {},
   "source": [
    "## Метаклассы\n",
    "\n",
    "Фактически используются для модернизации классов при их создании. \n",
    "Можно переопределить методы `__prepare__`, `__new__`, `__init__`, `__call__`. Т.о. добавив свое поведение к классам.\n",
    "\n",
    "Это очередная магия python by design.\n",
    "\n",
    "1. Объекты - это экземпляры классов.\n",
    "1. Классы - это экземпляры метаклассов.\n",
    "1. Метаклассы - экземлпяры `type`.\n",
    "\n",
    "Удачных практиченых применений метаклассов очень мало. Нашел два упоминания:\n",
    "1. ABC использует metaclass=ABCMeta\n",
    "1. В Django они применяются для создания системы плагинов."
   ]
  },
  {
   "cell_type": "markdown",
   "metadata": {},
   "source": [
    "# Декораторы\n",
    "1. Функции в python - это объекты первого порядка (first-class citizen). Их можно присваивать переменным, передвать и возвращать из функции и т.д.\n",
    "1. В python в целом все является объектом. Функции тоже.\n",
    "1. Поэтому python - может реализовывать функции высшего порядка, т.е. те в которые передаются другие функции или возвращаются из них.\n",
    "    - Хозяйке на заметку: В математике тоже есть функции высшего порядка - это производные d/dx, которые принимаю функцию и возвращают другую - ее производную. Видимо интегралы тоже самое.\n",
    "\n",
    "**Декоратор** - в общем случае это:\n",
    "1. FRO JUINORS: функция, которая принимает функцию и возвращает функцию. Конечно на практике имеет смысл вызвать переданную функцию, а до или после выполнить какие-то дополнительные операции, деокрирую исходную функцию.\n",
    "1. FOR PY SENIORS: \n",
    "    - Decorators are **applied once, at function <ins>definition time</ins>.**\n",
    "    - Annotating a function definition x with a decorator @d is equivalent to defining x, then, immediately afterward, having x = d(x).\n",
    "    - Decorating a function with @d and @e, in that order, is equivalent to performing x = d(e(x)) after the function's definition.\n",
    "    - **SUMMARY: Декораторы это любой callable, принимающий и возвращающий объект.**\n",
    "\n",
    "Типовые задачи для декораторов: логирование исходной функции, замеры ее производительность или кеширование функций.\n",
    "\n",
    "Декораторов у одной функции может быть много. Вызываются в порядке отдаления от самого определения функции. Т.е. сначала ближние к `def` исходной функции."
   ]
  },
  {
   "cell_type": "code",
   "execution_count": 9,
   "metadata": {},
   "outputs": [
    {
     "name": "stdout",
     "output_type": "stream",
     "text": [
      "ВАЖНО! Этот вызов функции декоратора происходит один раз при определении функции\n",
      "Залогируем вызов основной функции в декораторе\n",
      "Делаю реальное дело - Важная работа\n",
      "Залогируем вызов основной функции в декораторе\n",
      "Делаю реальное дело - Важная работа\n"
     ]
    }
   ],
   "source": [
    "def my_decorator(f):\n",
    "    print('ВАЖНО! Этот вызов функции декоратора происходит один раз при определении функции')\n",
    "\n",
    "    def wraper(*args, **kwargs):\n",
    "        print('Залогируем вызов основной функции в декораторе')\n",
    "        return f(*args, **kwargs)\n",
    "    return wraper\n",
    "\n",
    "@my_decorator\n",
    "def my_base_func(name):\n",
    "    print(f'Делаю реальное дело - {name}')\n",
    "\n",
    "# my_base_func = my_decorator(my_base_func) # эту строчку заменяет синтаксический сахар @my_decorator перед выводом функции\n",
    "my_base_func('Важная работа')\n",
    "my_base_func('Важная работа')"
   ]
  },
  {
   "cell_type": "markdown",
   "metadata": {},
   "source": [
    "Магия декораторов с примерами ада, когда декоратор может привратить декорируюемую функцию в строку или любой объет подроно описано [тут](https://github.com/hchasestevens/hchasestevens.github.io/blob/master/notebooks/the-decorators-they-wont-tell-you-about.ipynb)."
   ]
  },
  {
   "cell_type": "code",
   "execution_count": 15,
   "metadata": {},
   "outputs": [
    {
     "data": {
      "text/plain": [
       "'a_named_function'"
      ]
     },
     "execution_count": 15,
     "metadata": {},
     "output_type": "execute_result"
    }
   ],
   "source": [
    "def func_name(function):\n",
    "    return function.__name__\n",
    "\n",
    "@func_name\n",
    "def a_named_function():\n",
    "    return \"213\"\n",
    "\n",
    "a_named_function\n",
    "# a_named_function() # Это высовет ошибку, потому что декоратор переопределил a_names_function в строку!\n"
   ]
  },
  {
   "cell_type": "markdown",
   "metadata": {},
   "source": [
    "Пример ниже из статьи - Миф 1 - Декораторы - это функции. \n",
    "Что в нем происходит хрен поймешь даже в отладке. Почему не меняется глобальная переменная, почему изменился ее скоуп из-за декоратора я так и не понял."
   ]
  },
  {
   "cell_type": "code",
   "execution_count": 17,
   "metadata": {},
   "outputs": [
    {
     "data": {
      "text/plain": [
       "([2, 3], \"don't touch me please\")"
      ]
     },
     "execution_count": 17,
     "metadata": {},
     "output_type": "execute_result"
    }
   ],
   "source": [
    "def process_list(list_):\n",
    "    def decorator(function):\n",
    "        return function(list_)\n",
    "    return decorator\n",
    "\n",
    "unprocessed_list = [0, 1, 2, 3]\n",
    "special_var = \"don't touch me please\"\n",
    "\n",
    "@process_list(unprocessed_list)\n",
    "# processed_list = process_list(unprocessed_list)\n",
    "def processed_list(items):\n",
    "    special_var = 1\n",
    "    return [item for item in items if item > special_var]\n",
    "\n",
    "(processed_list, special_var)"
   ]
  },
  {
   "cell_type": "markdown",
   "metadata": {},
   "source": [
    "## Декораторы с аргументами\n",
    "\n",
    "Чтобы передать в декаратор аргументы, приходится делать еще одну функцию обертку с парамерами над функцией декоратором. При этом формально обертка не является декоратором. **Потому что декоратор всегда принимает функцию аргументом**. Обертка принимает не функцию, а другие параметры. Реальный декоратор - это функция внутри обертки с параметром. "
   ]
  },
  {
   "cell_type": "code",
   "execution_count": 92,
   "metadata": {},
   "outputs": [
    {
     "name": "stdout",
     "output_type": "stream",
     "text": [
      "Залогируем вызов основной функции в декораторе - 0/10\n",
      "Делаю реальное дело - Важная работа\n",
      "Залогируем вызов основной функции в декораторе - 1/10\n",
      "Делаю реальное дело - Важная работа\n",
      "Залогируем вызов основной функции в декораторе - 2/10\n",
      "Делаю реальное дело - Важная работа\n",
      "Залогируем вызов основной функции в декораторе - 3/10\n",
      "Делаю реальное дело - Важная работа\n",
      "Залогируем вызов основной функции в декораторе - 4/10\n",
      "Делаю реальное дело - Важная работа\n",
      "Залогируем вызов основной функции в декораторе - 5/10\n",
      "Делаю реальное дело - Важная работа\n",
      "Залогируем вызов основной функции в декораторе - 6/10\n",
      "Делаю реальное дело - Важная работа\n",
      "Залогируем вызов основной функции в декораторе - 7/10\n",
      "Делаю реальное дело - Важная работа\n",
      "Залогируем вызов основной функции в декораторе - 8/10\n",
      "Делаю реальное дело - Важная работа\n",
      "Залогируем вызов основной функции в декораторе - 9/10\n",
      "Делаю реальное дело - Важная работа\n"
     ]
    }
   ],
   "source": [
    "@it_is_not_real_decorator(cnt=10)\n",
    "def my_base_func(name):\n",
    "    print(f'Делаю реальное дело - {name}')\n",
    "\n",
    "def it_is_not_real_decorator(cnt): # Эта функция на самом деле не декоратор, т.к. декоратор всегда принимает функцию\n",
    "    def real_decorator(f):           # А это реальный декоратор, который для передачи в него параметров пришлось еще раз обернуть\n",
    "        def wraper(*args, **kwargs):\n",
    "            for i in range(cnt):\n",
    "                print(f'Залогируем вызов основной функции в декораторе - {i}/{cnt}')\n",
    "                ret = f(*args, **kwargs)\n",
    "            return ret\n",
    "        return wraper\n",
    "    return real_decorator\n",
    "\n",
    "# my_base_func = it_is_not_real_decorator(my_base_func) # эту строчку заменяет синтаксический сахар @my_decorator перед выводом функции\n",
    "my_base_func('Важная работа')"
   ]
  },
  {
   "cell_type": "markdown",
   "metadata": {},
   "source": [
    "# Инераторы"
   ]
  },
  {
   "cell_type": "markdown",
   "metadata": {},
   "source": [
    "# Генераторы"
   ]
  },
  {
   "cell_type": "markdown",
   "metadata": {},
   "source": [
    "# Асинхронность\n",
    "\n",
    "## Корутины\n",
    "\n",
    "multithreadering multiprocessing"
   ]
  },
  {
   "cell_type": "markdown",
   "metadata": {},
   "source": [
    "# Тестирование\n",
    "\n",
    "## unittest\n",
    "Встроенный. \n",
    "Не PEP8 friendly\n",
    "CamelCase\n",
    "\n",
    "## PyTest\n"
   ]
  },
  {
   "cell_type": "markdown",
   "metadata": {},
   "source": [
    "# ORM\n",
    "\n",
    "## SQLAlchemy"
   ]
  },
  {
   "cell_type": "markdown",
   "metadata": {},
   "source": [
    "# Принципы проектирования SOLID, DRY, KISS\n",
    "# Патерны\n",
    "https://refactoring.guru/ru"
   ]
  },
  {
   "cell_type": "markdown",
   "metadata": {},
   "source": [
    "# To learn more\n",
    "\n",
    "## Декораторы\n",
    "1. functools.lru_cache - декоратор для кеширования функций\n",
    "1. functools.wraps() \n",
    "\n",
    "https://github.com/gto76/python-cheatsheet"
   ]
  },
  {
   "cell_type": "code",
   "execution_count": 54,
   "metadata": {},
   "outputs": [
    {
     "name": "stdout",
     "output_type": "stream",
     "text": [
      "[('Monday', 'orange', 'eggs'), ('Tuesday', 'carrot', 'pancakes')]\n",
      "{'Monday': 'orange', 'Tuesday': 'carrot'}\n",
      "Monday orange eggs\n",
      "Tuesday carrot pancakes\n"
     ]
    }
   ],
   "source": [
    "# zip\n",
    "\n",
    "days = ['Monday', 'Tuesday', 'Wenesday']\n",
    "juices = ['orange', 'carrot']\n",
    "meals = ['eggs', 'pancakes']\n",
    "\n",
    "print(list(zip(days, juices, meals)))\n",
    "print(dict(zip(days, juices)))\n",
    "\n",
    "for d, j, m in zip(days, juices, meals):\n",
    "    print(d, j, m)"
   ]
  }
 ],
 "metadata": {
  "kernelspec": {
   "display_name": "Python 3.9.12 ('base')",
   "language": "python",
   "name": "python3"
  },
  "language_info": {
   "codemirror_mode": {
    "name": "ipython",
    "version": 3
   },
   "file_extension": ".py",
   "mimetype": "text/x-python",
   "name": "python",
   "nbconvert_exporter": "python",
   "pygments_lexer": "ipython3",
   "version": "3.9.12"
  },
  "orig_nbformat": 4,
  "vscode": {
   "interpreter": {
    "hash": "710b93e02e8b8b51c058babde07e1a7a13541132119b7af81717eb5d55689dc6"
   }
  }
 },
 "nbformat": 4,
 "nbformat_minor": 2
}
