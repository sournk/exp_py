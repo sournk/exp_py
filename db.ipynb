{
 "cells": [
  {
   "cell_type": "markdown",
   "metadata": {},
   "source": [
    "# Databases\n",
    "\n",
    "## No vs SQL\n",
    "## Индексы\n",
    "## Тригеры\n",
    "## ACID\n",
    "## Уровни изоляции"
   ]
  }
 ],
 "metadata": {
  "kernelspec": {
   "display_name": "Python 3.9.12 ('base')",
   "language": "python",
   "name": "python3"
  },
  "language_info": {
   "codemirror_mode": {
    "name": "ipython",
    "version": 3
   },
   "file_extension": ".py",
   "mimetype": "text/x-python",
   "name": "python",
   "nbconvert_exporter": "python",
   "pygments_lexer": "ipython3",
   "version": "3.9.12"
  },
  "orig_nbformat": 4,
  "vscode": {
   "interpreter": {
    "hash": "710b93e02e8b8b51c058babde07e1a7a13541132119b7af81717eb5d55689dc6"
   }
  }
 },
 "nbformat": 4,
 "nbformat_minor": 2
}
